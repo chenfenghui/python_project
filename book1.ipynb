{
 "cells": [
  {
   "cell_type": "code",
   "execution_count": 1,
   "metadata": {
    "collapsed": false
   },
   "outputs": [
    {
     "name": "stdout",
     "output_type": "stream",
     "text": [
      "   BoxOffice Irank  MovieName boxPer movieDay sumBoxOffice  \\\n0    3181.40     1     银河护卫队2  57.44        3     25585.11   \n1     924.70     2     摔跤吧！爸爸  16.70        3      5280.67   \n2     273.20     3       拆弹专家   4.93       10     31912.76   \n3     259.41     4     速度与激情8   4.68       24    262292.92   \n4     243.40     5       记忆大师   4.39       10     25311.50   \n5     227.66     6  蓝精灵：寻找神秘村   4.11       17     15189.23   \n6     192.55     7        喜欢你   3.48       11     18224.07   \n7     143.98     8      春娇救志明   2.60       10     15158.42   \n8      30.82     9       灵狼传奇   0.56        9       932.72   \n9      19.03    10      傲娇与偏见   0.34       18     12161.66   \n10     42.31    11         其它   1.00        0         0.00   \n\n                   time  \n0   2017-05-07 11:46:07  \n1   2017-05-07 11:46:07  \n2   2017-05-07 11:46:07  \n3   2017-05-07 11:46:07  \n4   2017-05-07 11:46:07  \n5   2017-05-07 11:46:07  \n6   2017-05-07 11:46:07  \n7   2017-05-07 11:46:07  \n8   2017-05-07 11:46:07  \n9   2017-05-07 11:46:07  \n10  2017-05-07 11:46:07  \n"
     ]
    }
   ],
   "source": [
    "import tushare as ts\n",
    "df = ts.realtime_boxoffice()\n",
    "print(df)"
   ]
  },
  {
   "cell_type": "code",
   "execution_count": null,
   "metadata": {},
   "outputs": [],
   "source": [
    ""
   ]
  }
 ],
 "metadata": {
  "kernelspec": {
   "display_name": "Python 2",
   "language": "python",
   "name": "python2"
  },
  "language_info": {
   "codemirror_mode": {
    "name": "ipython",
    "version": 2.0
   },
   "file_extension": ".py",
   "mimetype": "text/x-python",
   "name": "python",
   "nbconvert_exporter": "python",
   "pygments_lexer": "ipython2",
   "version": "2.7.6"
  }
 },
 "nbformat": 4,
 "nbformat_minor": 0
}