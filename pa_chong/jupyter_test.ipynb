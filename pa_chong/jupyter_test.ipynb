{
 "cells": [
  {
   "cell_type": "code",
   "execution_count": 1,
   "metadata": {
    "collapsed": false
   },
   "outputs": [
    {
     "data": {
      "text/plain": [
       "<tf.Tensor 'IsInf:0' shape=() dtype=bool>"
      ]
     },
     "execution_count": 1,
     "metadata": {},
     "output_type": "execute_result"
    }
   ],
   "source": [
    "import tensorflow as tf\n",
    "tf.is_inf(5.4)"
   ]
  },
  {
   "cell_type": "code",
   "execution_count": 2,
   "metadata": {},
   "outputs": [],
   "source": [
    "import nltk"
   ]
  },
  {
   "cell_type": "code",
   "execution_count": 14,
   "metadata": {},
   "outputs": [],
   "source": [
    "sentence = \"\"\"陈峰辉是个王八蛋\"\"\""
   ]
  },
  {
   "cell_type": "code",
   "execution_count": 15,
   "metadata": {},
   "outputs": [],
   "source": [
    "tokens = nltk.word_tokenize(sentence)"
   ]
  },
  {
   "cell_type": "code",
   "execution_count": 16,
   "metadata": {
    "collapsed": false
   },
   "outputs": [
    {
     "data": {
      "text/plain": [
       "['陈峰辉是个王八蛋']"
      ]
     },
     "execution_count": 16,
     "metadata": {},
     "output_type": "execute_result"
    }
   ],
   "source": [
    "tokens"
   ]
  },
  {
   "cell_type": "code",
   "execution_count": 6,
   "metadata": {},
   "outputs": [],
   "source": [
    "from nltk.corpus import brown"
   ]
  },
  {
   "cell_type": "code",
   "execution_count": 7,
   "metadata": {
    "collapsed": false
   },
   "outputs": [
    {
     "data": {
      "text/plain": [
       "['The', 'Fulton', 'County', 'Grand', 'Jury', 'said', ...]"
      ]
     },
     "execution_count": 7,
     "metadata": {},
     "output_type": "execute_result"
    }
   ],
   "source": [
    "brown.words()"
   ]
  },
  {
   "cell_type": "code",
   "execution_count": 44,
   "metadata": {
    "collapsed": false
   },
   "outputs": [
    {
     "name": "stdout",
     "output_type": "stream",
     "text": [
      "*** Introductory Examples for the NLTK Book ***\nLoading text1, ..., text9 and sent1, ..., sent9\nType the name of the text or sentence to view it.\nType: 'texts()' or 'sents()' to list the materials.\n"
     ]
    },
    {
     "name": "stdout",
     "output_type": "stream",
     "text": [
      "text1: Moby Dick by Herman Melville 1851\n"
     ]
    },
    {
     "name": "stdout",
     "output_type": "stream",
     "text": [
      "text2: Sense and Sensibility by Jane Austen 1811\n"
     ]
    },
    {
     "name": "stdout",
     "output_type": "stream",
     "text": [
      "text3: The Book of Genesis\n"
     ]
    },
    {
     "name": "stdout",
     "output_type": "stream",
     "text": [
      "text4: Inaugural Address Corpus\n"
     ]
    },
    {
     "name": "stdout",
     "output_type": "stream",
     "text": [
      "text5: Chat Corpus\n"
     ]
    },
    {
     "name": "stdout",
     "output_type": "stream",
     "text": [
      "text6: Monty Python and the Holy Grail\n"
     ]
    },
    {
     "name": "stdout",
     "output_type": "stream",
     "text": [
      "text7: Wall Street Journal\ntext8: Personals Corpus\n"
     ]
    },
    {
     "name": "stdout",
     "output_type": "stream",
     "text": [
      "text9: The Man Who Was Thursday by G . K . Chesterton 1908\n"
     ]
    }
   ],
   "source": [
    "from nltk.book  import *"
   ]
  },
  {
   "cell_type": "code",
   "execution_count": 5,
   "metadata": {},
   "outputs": [
    {
     "name": "stdout",
     "output_type": "stream",
     "text": [
      "*** Introductory Examples for the NLTK Book ***\nLoading text1, ..., text9 and sent1, ..., sent9\nType the name of the text or sentence to view it.\nType: 'texts()' or 'sents()' to list the materials.\n"
     ]
    },
    {
     "name": "stdout",
     "output_type": "stream",
     "text": [
      "text1: Moby Dick by Herman Melville 1851\n"
     ]
    },
    {
     "name": "stdout",
     "output_type": "stream",
     "text": [
      "text2: Sense and Sensibility by Jane Austen 1811\n"
     ]
    },
    {
     "name": "stdout",
     "output_type": "stream",
     "text": [
      "text3: The Book of Genesis\n"
     ]
    },
    {
     "name": "stdout",
     "output_type": "stream",
     "text": [
      "text4: Inaugural Address Corpus\n"
     ]
    },
    {
     "name": "stdout",
     "output_type": "stream",
     "text": [
      "text5: Chat Corpus\n"
     ]
    },
    {
     "name": "stdout",
     "output_type": "stream",
     "text": [
      "text6: Monty Python and the Holy Grail\n"
     ]
    },
    {
     "name": "stdout",
     "output_type": "stream",
     "text": [
      "text7: Wall Street Journal\ntext8: Personals Corpus\n"
     ]
    },
    {
     "name": "stdout",
     "output_type": "stream",
     "text": [
      "text9: The Man Who Was Thursday by G . K . Chesterton 1908\nDisplaying 1 of 1 matches:\nhose two seemed one ; it was only the sex , as it were , that distinguished the\n"
     ]
    }
   ],
   "source": [
    "from nltk.book import *\n",
    "text1.concordance(\"sex\")"
   ]
  },
  {
   "cell_type": "code",
   "execution_count": null,
   "metadata": {},
   "outputs": [],
   "source": [
    ""
   ]
  },
  {
   "cell_type": "code",
   "execution_count": 8,
   "metadata": {
    "collapsed": true
   },
   "outputs": [
    {
     "name": "stdout",
     "output_type": "stream",
     "text": [
      "Displaying 1 of 1 matches:\nhose two seemed one ; it was only the sex , as it were , that distinguished the\n"
     ]
    }
   ],
   "source": [
    ""
   ]
  },
  {
   "cell_type": "code",
   "execution_count": null,
   "metadata": {},
   "outputs": [],
   "source": [
    ""
   ]
  },
  {
   "cell_type": "code",
   "execution_count": 16,
   "metadata": {
    "collapsed": false
   },
   "outputs": [
    {
     "name": "stdout",
     "output_type": "stream",
     "text": [
      "Displaying 25 of 49 matches:\ndes cometh within the chaos of this monster ' s mouth , be it beast , boat , or\nnter into the dreadful gulf of this monster ' s ( whale ' s ) mouth , are immed\ntime with a lance ; but the furious monster at length rushed on the boat ; hims\n . Such a portentous and mysterious monster roused all my curiosity . Then the \nand flank with the most exasperated monster . Long usage had , for this Stubb ,\nACK ).-- Under this head I reckon a monster which , by the various names of Fin\narned the history of that murderous monster against whom I and all the others h\nocity , cunning , and malice in the monster attacked ; therefore it was , that \niathan is restricted to the ignoble monster primitively pursued in the North ; \n and incontestable character of the monster to strike the imagination with unwo\nmberment . Then , in darting at the monster , knife in hand , he had but given \ne rock ; instead of this we saw the monster sailing off with the utmost gravity\ne at Constantinople , a great sea - monster was captured in the neighboring Pro\n Of what precise species this sea - monster was , is not mentioned . But as he \nman reasoning , Procopius ' s sea - monster , that for half a century stove the\nhale ,\" as he called the fictitious monster which he declared to be incessantly\nd his intention to hunt that mortal monster in person . But such a supposition \nng us on and on , in order that the monster might turn round upon us , and rend\nd famous , and most deadly immortal monster , Don ;-- but that would be too lon\noluntarily lifted his voice for the monster , though for some little time past \ns rescuing Andromeda from the sea - monster or whale . Where did Guido get the \n huge corpulence of that Hogarthian monster undulates on the surface , scarcely\nnd is drawn just balancing upon the monster ' s spine ; and standing in that pr\n of cutting - in ) hove over to the monster as if to a quay ; and a boat , hurr\neet in length . They fancy that the monster to which these arms belonged ordina\nwhale ship world sea pequod boat whales sun other leviathan air crew\nking captain water cabin thing head forecastle line\nnot_kind and_fond ,_early to_great that_day\n"
     ]
    },
    {
     "data": {
      "image/png": "[encoded data removed]",
      "text/plain": [
       "<matplotlib.figure.Figure at 0x2bb3f98aa90>"
      ]
     },
     "metadata": {},
     "output_type": "display_data"
    }
   ],
   "source": [
    "import  nltk\n",
    "from nltk.corpus import  *\n",
    "text1\n",
    "text1.concordance(\"monster\") #函数concordance搜索指定内容\n",
    "text1.similar(\"monster\")     #函数similar查找相似上下文\n",
    "text2.common_contexts([\"the\",\"very\"]) #函数common_contexts共用多个词汇的上下文\n",
    "text4.dispersion_plot([\"citizens\",\"democracy\",\"freedom\",\"duties\",\"America\"]) #判断词在文本中的位置，从开头算起有多少词出现，可以离散图表示，每一列代表一个单词，每一行代表有个文本"
   ]
  },
  {
   "cell_type": "code",
   "execution_count": 24,
   "metadata": {
    "collapsed": false
   },
   "outputs": [
    {
     "data": {
      "text/plain": [
       "44764"
      ]
     },
     "execution_count": 24,
     "metadata": {},
     "output_type": "execute_result"
    }
   ],
   "source": [
    "len(text3)           #函数len()计数词汇"
   ]
  },
  {
   "cell_type": "code",
   "execution_count": 25,
   "metadata": {},
   "outputs": [
    {
     "data": {
      "text/plain": [
       "16.050197203298673"
      ]
     },
     "execution_count": 25,
     "metadata": {},
     "output_type": "execute_result"
    }
   ],
   "source": [
    "len(text3)/len(set(text3)) #每个词平均使用次数"
   ]
  },
  {
   "cell_type": "code",
   "execution_count": 26,
   "metadata": {
    "collapsed": true
   },
   "outputs": [
    {
     "data": {
      "text/plain": [
       "['!',\n \"'\",\n '(',\n ')',\n ',',\n ',)',\n '.',\n '.)',\n ':',\n ';',\n ';)',\n '?',\n '?)',\n 'A',\n 'Abel',\n 'Abelmizraim',\n 'Abidah',\n 'Abide',\n 'Abimael',\n 'Abimelech',\n 'Abr',\n 'Abrah',\n 'Abraham',\n 'Abram',\n 'Accad',\n 'Achbor',\n 'Adah',\n 'Adam',\n 'Adbeel',\n 'Admah',\n 'Adullamite',\n 'After',\n 'Aholibamah',\n 'Ahuzzath',\n 'Ajah',\n 'Akan',\n 'All',\n 'Allonbachuth',\n 'Almighty',\n 'Almodad',\n 'Also',\n 'Alvah',\n 'Alvan',\n 'Am',\n 'Amal',\n 'Amalek',\n 'Amalekites',\n 'Ammon',\n 'Amorite',\n 'Amorites',\n 'Amraphel',\n 'An',\n 'Anah',\n 'Anamim',\n 'And',\n 'Aner',\n 'Angel',\n 'Appoint',\n 'Aram',\n 'Aran',\n 'Ararat',\n 'Arbah',\n 'Ard',\n 'Are',\n 'Areli',\n 'Arioch',\n 'Arise',\n 'Arkite',\n 'Arodi',\n 'Arphaxad',\n 'Art',\n 'Arvadite',\n 'As',\n 'Asenath',\n 'Ashbel',\n 'Asher',\n 'Ashkenaz',\n 'Ashteroth',\n 'Ask',\n 'Asshur',\n 'Asshurim',\n 'Assyr',\n 'Assyria',\n 'At',\n 'Atad',\n 'Avith',\n 'Baalhanan',\n 'Babel',\n 'Bashemath',\n 'Be',\n 'Because',\n 'Becher',\n 'Bedad',\n 'Beeri',\n 'Beerlahairoi',\n 'Beersheba',\n 'Behold',\n 'Bela',\n 'Belah',\n 'Benam',\n 'Benjamin',\n 'Beno',\n 'Beor',\n 'Bera',\n 'Bered',\n 'Beriah',\n 'Bethel',\n 'Bethlehem',\n 'Bethuel',\n 'Beware',\n 'Bilhah',\n 'Bilhan',\n 'Binding',\n 'Birsha',\n 'Bless',\n 'Blessed',\n 'Both',\n 'Bow',\n 'Bozrah',\n 'Bring',\n 'But',\n 'Buz',\n 'By',\n 'Cain',\n 'Cainan',\n 'Calah',\n 'Calneh',\n 'Can',\n 'Cana',\n 'Canaan',\n 'Canaanite',\n 'Canaanites',\n 'Canaanitish',\n 'Caphtorim',\n 'Carmi',\n 'Casluhim',\n 'Cast',\n 'Cause',\n 'Chaldees',\n 'Chedorlaomer',\n 'Cheran',\n 'Cherubims',\n 'Chesed',\n 'Chezib',\n 'Come',\n 'Cursed',\n 'Cush',\n 'Damascus',\n 'Dan',\n 'Day',\n 'Deborah',\n 'Dedan',\n 'Deliver',\n 'Diklah',\n 'Din',\n 'Dinah',\n 'Dinhabah',\n 'Discern',\n 'Dishan',\n 'Dishon',\n 'Do',\n 'Dodanim',\n 'Dothan',\n 'Drink',\n 'Duke',\n 'Dumah',\n 'Earth',\n 'Ebal',\n 'Eber',\n 'Edar',\n 'Eden',\n 'Edom',\n 'Edomites',\n 'Egy',\n 'Egypt',\n 'Egyptia',\n 'Egyptian',\n 'Egyptians',\n 'Ehi',\n 'Elah',\n 'Elam',\n 'Elbethel',\n 'Eldaah',\n 'EleloheIsrael',\n 'Eliezer',\n 'Eliphaz',\n 'Elishah',\n 'Ellasar',\n 'Elon',\n 'Elparan',\n 'Emins',\n 'En',\n 'Enmishpat',\n 'Eno',\n 'Enoch',\n 'Enos',\n 'Ephah',\n 'Epher',\n 'Ephra',\n 'Ephraim',\n 'Ephrath',\n 'Ephron',\n 'Er',\n 'Erech',\n 'Eri',\n 'Es',\n 'Esau',\n 'Escape',\n 'Esek',\n 'Eshban',\n 'Eshcol',\n 'Ethiopia',\n 'Euphrat',\n 'Euphrates',\n 'Eve',\n 'Even',\n 'Every',\n 'Except',\n 'Ezbon',\n 'Ezer',\n 'Fear',\n 'Feed',\n 'Fifteen',\n 'Fill',\n 'For',\n 'Forasmuch',\n 'Forgive',\n 'From',\n 'Fulfil',\n 'G',\n 'Gad',\n 'Gaham',\n 'Galeed',\n 'Gatam',\n 'Gather',\n 'Gaza',\n 'Gentiles',\n 'Gera',\n 'Gerar',\n 'Gershon',\n 'Get',\n 'Gether',\n 'Gihon',\n 'Gilead',\n 'Girgashites',\n 'Girgasite',\n 'Give',\n 'Go',\n 'God',\n 'Gomer',\n 'Gomorrah',\n 'Goshen',\n 'Guni',\n 'Hadad',\n 'Hadar',\n 'Hadoram',\n 'Hagar',\n 'Haggi',\n 'Hai',\n 'Ham',\n 'Hamathite',\n 'Hamor',\n 'Hamul',\n 'Hanoch',\n 'Happy',\n 'Haran',\n 'Hast',\n 'Haste',\n 'Have',\n 'Havilah',\n 'Hazarmaveth',\n 'Hazezontamar',\n 'Hazo',\n 'He',\n 'Hear',\n 'Heaven',\n 'Heber',\n 'Hebrew',\n 'Hebrews',\n 'Hebron',\n 'Hemam',\n 'Hemdan',\n 'Here',\n 'Hereby',\n 'Heth',\n 'Hezron',\n 'Hiddekel',\n 'Hinder',\n 'Hirah',\n 'His',\n 'Hitti',\n 'Hittite',\n 'Hittites',\n 'Hivite',\n 'Hobah',\n 'Hori',\n 'Horite',\n 'Horites',\n 'How',\n 'Hul',\n 'Huppim',\n 'Husham',\n 'Hushim',\n 'Huz',\n 'I',\n 'If',\n 'In',\n 'Irad',\n 'Iram',\n 'Is',\n 'Isa',\n 'Isaac',\n 'Iscah',\n 'Ishbak',\n 'Ishmael',\n 'Ishmeelites',\n 'Ishuah',\n 'Isra',\n 'Israel',\n 'Issachar',\n 'Isui',\n 'It',\n 'Ithran',\n 'Jaalam',\n 'Jabal',\n 'Jabbok',\n 'Jac',\n 'Jachin',\n 'Jacob',\n 'Jahleel',\n 'Jahzeel',\n 'Jamin',\n 'Japhe',\n 'Japheth',\n 'Jared',\n 'Javan',\n 'Jebusite',\n 'Jebusites',\n 'Jegarsahadutha',\n 'Jehovahjireh',\n 'Jemuel',\n 'Jerah',\n 'Jetheth',\n 'Jetur',\n 'Jeush',\n 'Jezer',\n 'Jidlaph',\n 'Jimnah',\n 'Job',\n 'Jobab',\n 'Jokshan',\n 'Joktan',\n 'Jordan',\n 'Joseph',\n 'Jubal',\n 'Judah',\n 'Judge',\n 'Judith',\n 'Kadesh',\n 'Kadmonites',\n 'Karnaim',\n 'Kedar',\n 'Kedemah',\n 'Kemuel',\n 'Kenaz',\n 'Kenites',\n 'Kenizzites',\n 'Keturah',\n 'Kiriathaim',\n 'Kirjatharba',\n 'Kittim',\n 'Know',\n 'Kohath',\n 'Kor',\n 'Korah',\n 'LO',\n 'LORD',\n 'Laban',\n 'Lahairoi',\n 'Lamech',\n 'Lasha',\n 'Lay',\n 'Leah',\n 'Lehabim',\n 'Lest',\n 'Let',\n 'Letushim',\n 'Leummim',\n 'Levi',\n 'Lie',\n 'Lift',\n 'Lo',\n 'Look',\n 'Lot',\n 'Lotan',\n 'Lud',\n 'Ludim',\n 'Luz',\n 'Maachah',\n 'Machir',\n 'Machpelah',\n 'Madai',\n 'Magdiel',\n 'Magog',\n 'Mahalaleel',\n 'Mahalath',\n 'Mahanaim',\n 'Make',\n 'Malchiel',\n 'Male',\n 'Mam',\n 'Mamre',\n 'Man',\n 'Manahath',\n 'Manass',\n 'Manasseh',\n 'Mash',\n 'Masrekah',\n 'Massa',\n 'Matred',\n 'Me',\n 'Medan',\n 'Mehetabel',\n 'Mehujael',\n 'Melchizedek',\n 'Merari',\n 'Mesha',\n 'Meshech',\n 'Mesopotamia',\n 'Methusa',\n 'Methusael',\n 'Methuselah',\n 'Mezahab',\n 'Mibsam',\n 'Mibzar',\n 'Midian',\n 'Midianites',\n 'Milcah',\n 'Mishma',\n 'Mizpah',\n 'Mizraim',\n 'Mizz',\n 'Moab',\n 'Moabites',\n 'Moreh',\n 'Moreover',\n 'Moriah',\n 'Muppim',\n 'My',\n 'Naamah',\n 'Naaman',\n 'Nahath',\n 'Nahor',\n 'Naphish',\n 'Naphtali',\n 'Naphtuhim',\n 'Nay',\n 'Nebajoth',\n 'Neither',\n 'Night',\n 'Nimrod',\n 'Nineveh',\n 'Noah',\n 'Nod',\n 'Not',\n 'Now',\n 'O',\n 'Obal',\n 'Of',\n 'Oh',\n 'Ohad',\n 'Omar',\n 'On',\n 'Onam',\n 'Onan',\n 'Only',\n 'Ophir',\n 'Our',\n 'Out',\n 'Padan',\n 'Padanaram',\n 'Paran',\n 'Pass',\n 'Pathrusim',\n 'Pau',\n 'Peace',\n 'Peleg',\n 'Peniel',\n 'Penuel',\n 'Peradventure',\n 'Perizzit',\n 'Perizzite',\n 'Perizzites',\n 'Phallu',\n 'Phara',\n 'Pharaoh',\n 'Pharez',\n 'Phichol',\n 'Philistim',\n 'Philistines',\n 'Phut',\n 'Phuvah',\n 'Pildash',\n 'Pinon',\n 'Pison',\n 'Potiphar',\n 'Potipherah',\n 'Put',\n 'Raamah',\n 'Rachel',\n 'Rameses',\n 'Rebek',\n 'Rebekah',\n 'Rehoboth',\n 'Remain',\n 'Rephaims',\n 'Resen',\n 'Return',\n 'Reu',\n 'Reub',\n 'Reuben',\n 'Reuel',\n 'Reumah',\n 'Riphath',\n 'Rosh',\n 'Sabtah',\n 'Sabtech',\n 'Said',\n 'Salah',\n 'Salem',\n 'Samlah',\n 'Sarah',\n 'Sarai',\n 'Saul',\n 'Save',\n 'Say',\n 'Se',\n 'Seba',\n 'See',\n 'Seeing',\n 'Seir',\n 'Sell',\n 'Send',\n 'Sephar',\n 'Serah',\n 'Sered',\n 'Serug',\n 'Set',\n 'Seth',\n 'Shalem',\n 'Shall',\n 'Shalt',\n 'Shammah',\n 'Shaul',\n 'Shaveh',\n 'She',\n 'Sheba',\n 'Shebah',\n 'Shechem',\n 'Shed',\n 'Shel',\n 'Shelah',\n 'Sheleph',\n 'Shem',\n 'Shemeber',\n 'Shepho',\n 'Shillem',\n 'Shiloh',\n 'Shimron',\n 'Shinab',\n 'Shinar',\n 'Shobal',\n 'Should',\n 'Shuah',\n 'Shuni',\n 'Shur',\n 'Sichem',\n 'Siddim',\n 'Sidon',\n 'Simeon',\n 'Sinite',\n 'Sitnah',\n 'Slay',\n 'So',\n 'Sod',\n 'Sodom',\n 'Sojourn',\n 'Some',\n 'Spake',\n 'Speak',\n 'Spirit',\n 'Stand',\n 'Succoth',\n 'Surely',\n 'Swear',\n 'Syrian',\n 'Take',\n 'Tamar',\n 'Tarshish',\n 'Tebah',\n 'Tell',\n 'Tema',\n 'Teman',\n 'Temani',\n 'Terah',\n 'Thahash',\n 'That',\n 'The',\n 'Then',\n 'There',\n 'Therefore',\n 'These',\n 'They',\n 'Thirty',\n 'This',\n 'Thorns',\n 'Thou',\n 'Thus',\n 'Thy',\n 'Tidal',\n 'Timna',\n 'Timnah',\n 'Timnath',\n 'Tiras',\n 'To',\n 'Togarmah',\n 'Tola',\n 'Tubal',\n 'Tubalcain',\n 'Twelve',\n 'Two',\n 'Unstable',\n 'Until',\n 'Unto',\n 'Up',\n 'Upon',\n 'Ur',\n 'Uz',\n 'Uzal',\n 'We',\n 'What',\n 'When',\n 'Whence',\n 'Where',\n 'Whereas',\n 'Wherefore',\n 'Which',\n 'While',\n 'Who',\n 'Whose',\n 'Whoso',\n 'Why',\n 'Wilt',\n 'With',\n 'Woman',\n 'Ye',\n 'Yea',\n 'Yet',\n 'Zaavan',\n 'Zaphnathpaaneah',\n 'Zar',\n 'Zarah',\n 'Zeboiim',\n 'Zeboim',\n 'Zebul',\n 'Zebulun',\n 'Zemarite',\n 'Zepho',\n 'Zerah',\n 'Zibeon',\n 'Zidon',\n 'Zillah',\n 'Zilpah',\n 'Zimran',\n 'Ziphion',\n 'Zo',\n 'Zoar',\n 'Zohar',\n 'Zuzims',\n 'a',\n 'abated',\n 'abide',\n 'able',\n 'abode',\n 'abomination',\n 'about',\n 'above',\n 'abroad',\n 'absent',\n 'abundantly',\n 'accept',\n 'accepted',\n 'according',\n 'acknowledged',\n 'activity',\n 'add',\n 'adder',\n 'afar',\n 'afflict',\n 'affliction',\n 'afraid',\n 'after',\n 'afterward',\n 'afterwards',\n 'aga',\n 'again',\n 'against',\n 'age',\n 'aileth',\n 'air',\n 'al',\n 'alive',\n 'all',\n 'almon',\n 'alo',\n 'alone',\n 'aloud',\n 'also',\n 'altar',\n 'altogether',\n 'always',\n 'am',\n 'among',\n 'amongst',\n 'an',\n 'and',\n 'angel',\n 'angels',\n 'anger',\n 'angry',\n 'anguish',\n 'anointedst',\n 'anoth',\n 'another',\n 'answer',\n 'answered',\n 'any',\n 'anything',\n 'appe',\n 'appear',\n 'appeared',\n 'appease',\n 'appoint',\n 'appointed',\n 'aprons',\n 'archer',\n 'archers',\n 'are',\n 'arise',\n 'ark',\n 'armed',\n 'arms',\n 'army',\n 'arose',\n 'arrayed',\n 'art',\n 'artificer',\n 'as',\n 'ascending',\n 'ash',\n 'ashamed',\n 'ask',\n 'asked',\n 'asketh',\n 'ass',\n 'assembly',\n 'asses',\n 'assigned',\n 'asswaged',\n 'at',\n 'attained',\n 'audience',\n 'avenged',\n 'aw',\n 'awaked',\n 'away',\n 'awoke',\n 'back',\n 'backward',\n 'bad',\n 'bade',\n 'badest',\n 'badne',\n 'bak',\n 'bake',\n 'bakemeats',\n 'baker',\n 'bakers',\n 'balm',\n 'bands',\n 'bank',\n 'bare',\n 'barr',\n 'barren',\n 'basket',\n 'baskets',\n 'battle',\n 'bdellium',\n 'be',\n 'bear',\n 'beari',\n 'bearing',\n 'beast',\n 'beasts',\n 'beautiful',\n 'became',\n 'because',\n 'become',\n 'bed',\n 'been',\n 'befall',\n 'befell',\n 'before',\n 'began',\n 'begat',\n 'beget',\n 'begettest',\n 'begin',\n 'beginning',\n 'begotten',\n 'beguiled',\n 'beheld',\n 'behind',\n 'behold',\n 'being',\n 'believed',\n 'belly',\n 'belong',\n 'beneath',\n 'bereaved',\n 'beside',\n 'besides',\n 'besought',\n 'best',\n 'betimes',\n 'better',\n 'between',\n 'betwixt',\n 'beyond',\n 'binding',\n 'bird',\n 'birds',\n 'birthday',\n 'birthright',\n 'biteth',\n 'bitter',\n 'blame',\n 'blameless',\n 'blasted',\n 'bless',\n 'blessed',\n 'blesseth',\n 'blessi',\n 'blessing',\n 'blessings',\n 'blindness',\n 'blood',\n 'blossoms',\n 'bodies',\n 'boldly',\n 'bondman',\n 'bondmen',\n 'bondwoman',\n 'bone',\n 'bones',\n 'book',\n 'booths',\n 'border',\n 'borders',\n 'born',\n 'bosom',\n 'both',\n 'bottle',\n 'bou',\n 'boug',\n 'bough',\n 'bought',\n 'bound',\n 'bow',\n 'bowed',\n 'bowels',\n 'bowing',\n 'boys',\n 'bracelets',\n 'branches',\n 'brass',\n 'bre',\n 'breach',\n 'bread',\n 'breadth',\n 'break',\n 'breaketh',\n 'breaking',\n 'breasts',\n 'breath',\n 'breathed',\n 'breed',\n 'brethren',\n 'brick',\n 'brimstone',\n 'bring',\n 'brink',\n 'broken',\n 'brook',\n 'broth',\n 'brother',\n 'brought',\n 'brown',\n 'bruise',\n 'budded',\n 'build',\n 'builded',\n 'built',\n 'bulls',\n 'bundle',\n 'bundles',\n 'burdens',\n 'buried',\n 'burn',\n 'burning',\n 'burnt',\n 'bury',\n 'buryingplace',\n 'business',\n 'but',\n 'butler',\n 'butlers',\n 'butlership',\n 'butter',\n 'buy',\n 'by',\n 'cakes',\n 'calf',\n 'call',\n 'called',\n 'came',\n 'camel',\n 'camels',\n 'camest',\n 'can',\n 'cannot',\n 'canst',\n 'captain',\n 'captive',\n 'captives',\n 'carcases',\n 'carried',\n 'carry',\n 'cast',\n 'castles',\n 'catt',\n 'cattle',\n 'caught',\n 'cause',\n 'caused',\n 'cave',\n 'cease',\n 'ceased',\n 'certain',\n 'certainly',\n 'chain',\n 'chamber',\n 'change',\n 'changed',\n 'changes',\n 'charge',\n 'charged',\n 'chariot',\n 'chariots',\n 'chesnut',\n 'chi',\n 'chief',\n 'child',\n 'childless',\n 'childr',\n 'children',\n 'chode',\n 'choice',\n 'chose',\n 'circumcis',\n 'circumcise',\n 'circumcised',\n 'citi',\n 'cities',\n 'city',\n 'clave',\n 'clean',\n 'clear',\n 'cleave',\n 'clo',\n 'closed',\n 'clothed',\n 'clothes',\n 'cloud',\n 'clusters',\n 'co',\n 'coat',\n 'coats',\n 'coffin',\n 'cold',\n ...]"
      ]
     },
     "execution_count": 26,
     "metadata": {},
     "output_type": "execute_result"
    }
   ],
   "source": [
    "sorted(set(text3))  #词汇表排序"
   ]
  },
  {
   "cell_type": "code",
   "execution_count": 30,
   "metadata": {},
   "outputs": [
    {
     "data": {
      "text/plain": [
       "2411"
      ]
     },
     "execution_count": 30,
     "metadata": {},
     "output_type": "execute_result"
    }
   ],
   "source": [
    "text3.count(\"the\")  #特定词在文本中出现的次数"
   ]
  },
  {
   "cell_type": "code",
   "execution_count": 31,
   "metadata": {},
   "outputs": [
    {
     "data": {
      "text/plain": [
       "1.4643016433938312"
      ]
     },
     "execution_count": 31,
     "metadata": {},
     "output_type": "execute_result"
    }
   ],
   "source": [
    "100*text4.count('a')/len(text4) #特定词在文本中所占的百分比"
   ]
  },
  {
   "cell_type": "code",
   "execution_count": 32,
   "metadata": {
    "collapsed": false
   },
   "outputs": [
    {
     "data": {
      "text/plain": [
       "FreqDist({'companionship': 2,\n          'offering': 4,\n          'fishing': 2,\n          'budged': 1,\n          'bumped': 1,\n          'crunched': 3,\n          'decay': 2,\n          'numerous': 16,\n          'landlessness': 2,\n          'scythes': 3,\n          'mangles': 1,\n          'plump': 4,\n          'superlatively': 2,\n          'repels': 1,\n          'concern': 10,\n          'GRAND': 2,\n          'presuming': 1,\n          'lurk': 6,\n          'associates': 1,\n          'metal': 3,\n          'clanging': 1,\n          'Hampton': 1,\n          'jeopardized': 3,\n          'HAVING': 1,\n          'nooses': 1,\n          'statue': 3,\n          'hurriedly': 2,\n          'laughing': 4,\n          'employ': 2,\n          'stifled': 1,\n          'ALGERINE': 1,\n          'nourished': 2,\n          'painstaking': 1,\n          'collectedness': 2,\n          'royals': 3,\n          'puffs': 5,\n          'unwilling': 1,\n          'brine': 4,\n          'inspecting': 1,\n          'dirty': 2,\n          'reinforced': 1,\n          'bethink': 6,\n          'angel': 6,\n          'skewered': 1,\n          'chapel': 6,\n          'Alleghanies': 1,\n          'actual': 3,\n          'lure': 1,\n          'yawning': 3,\n          'faithfully': 2,\n          ',': 18713,\n          'Read': 1,\n          'halls': 3,\n          'BURKE': 2,\n          'belted': 3,\n          'ventricles': 1,\n          'weighing': 3,\n          'shines': 1,\n          'sidelong': 7,\n          'Surely': 5,\n          'Algerine': 1,\n          'instantaneous': 5,\n          'Stone': 1,\n          'computed': 1,\n          'sanctity': 2,\n          'Zoned': 1,\n          'transferred': 3,\n          'sentinelled': 1,\n          'valvular': 1,\n          'disentangling': 1,\n          'cetological': 1,\n          'object': 39,\n          'felicities': 1,\n          'appetites': 3,\n          'sincerity': 2,\n          'grunt': 2,\n          'hermaphroditical': 1,\n          'islands': 12,\n          'Hay': 1,\n          'wester': 1,\n          'wonders': 13,\n          'Besides': 30,\n          'accompanies': 1,\n          'placidly': 1,\n          'Americans': 6,\n          'unquiet': 1,\n          'touches': 2,\n          'translated': 1,\n          'methodically': 3,\n          'hemlock': 1,\n          'untrodden': 1,\n          'tragic': 4,\n          'paying': 3,\n          'juncture': 4,\n          'Johnson': 3,\n          'looks': 27,\n          'dignity': 19,\n          'traditions': 8,\n          'convalescing': 1,\n          'Barbary': 2,\n          'upbraidings': 1,\n          'Rinaldini': 1,\n          'formation': 3,\n          'assails': 1,\n          'spire': 3,\n          'deserving': 1,\n          'creditors': 1,\n          'paw': 3,\n          'naught': 13,\n          'EXCHANGE': 1,\n          'trim': 1,\n          'lying': 16,\n          'purple': 6,\n          'dash': 7,\n          'voids': 2,\n          'lye': 2,\n          'visual': 4,\n          'cadence': 2,\n          'shaft': 3,\n          'According': 6,\n          'Von': 1,\n          'floating': 24,\n          'Oh': 119,\n          'wast': 2,\n          'addressing': 4,\n          'indefinitely': 3,\n          'ILE': 1,\n          'outstrip': 1,\n          'sky': 35,\n          'DEATH': 1,\n          'Mixed': 1,\n          'bundle': 2,\n          'bonnet': 2,\n          'tho': 1,\n          'thine': 17,\n          'bright': 24,\n          'Hereby': 2,\n          'tread': 4,\n          'threadbare': 1,\n          'unharming': 2,\n          'floated': 18,\n          'across': 31,\n          'thwack': 1,\n          'august': 3,\n          'hurricane': 3,\n          'unmentionable': 1,\n          'harbors': 5,\n          'red': 36,\n          'walls': 11,\n          'oly': 1,\n          'Painter': 1,\n          'flipped': 1,\n          'profession': 5,\n          'supplants': 1,\n          'TALBOT': 1,\n          'precisely': 27,\n          'gnawing': 1,\n          'dispersed': 2,\n          'withstanding': 1,\n          'Shaking': 1,\n          'indecorous': 1,\n          'wonderfully': 2,\n          'manipulator': 1,\n          'ME': 4,\n          'masoned': 3,\n          'pumps': 15,\n          'manifesto': 1,\n          'substituting': 2,\n          'injustice': 3,\n          'falsified': 1,\n          'stared': 1,\n          'trodden': 1,\n          'rat': 2,\n          'undressed': 3,\n          'cope': 1,\n          'mateship': 1,\n          'ounce': 4,\n          'interpreters': 1,\n          'suggestiveness': 1,\n          'coasting': 1,\n          'importance': 6,\n          'Warmest': 1,\n          'described': 8,\n          'unusual': 12,\n          'timeliest': 1,\n          'tons': 7,\n          'wafted': 1,\n          'crop': 1,\n          'altered': 3,\n          'love': 24,\n          'fatter': 1,\n          'anticipatingly': 2,\n          'gainsaid': 2,\n          'Alleghanian': 1,\n          'freshness': 1,\n          'dat': 20,\n          'burst': 21,\n          'disproved': 1,\n          'woods': 9,\n          'corroborated': 1,\n          'remnant': 1,\n          'produced': 6,\n          'hinting': 5,\n          'Yonder': 2,\n          'authentic': 3,\n          'queenly': 1,\n          'fleets': 3,\n          'errors': 3,\n          'Explain': 1,\n          'punctually': 1,\n          'gashed': 1,\n          'BRIT': 1,\n          'retains': 1,\n          '500': 2,\n          'tearingly': 1,\n          'VOICE': 2,\n          'visible': 32,\n          'beard': 5,\n          'porpoises': 6,\n          'backed': 8,\n          'miles': 31,\n          'unborn': 1,\n          'Poor': 8,\n          'amaze': 1,\n          'Belial': 1,\n          'sepulchral': 2,\n          'its': 372,\n          'ANIMAL': 1,\n          'whittled': 1,\n          'obstetrics': 2,\n          '104': 1,\n          'stingy': 1,\n          'scientific': 16,\n          'abandonment': 2,\n          'uninterrupted': 2,\n          'some': 578,\n          'cow': 1,\n          'slatternly': 1,\n          'if': 421,\n          'exchanging': 1,\n          'sacrifice': 2,\n          'glorified': 2,\n          'hoofs': 3,\n          'tropics': 3,\n          'Cut': 3,\n          'Stars': 1,\n          'demigods': 1,\n          'dishonour': 2,\n          'unbuckling': 1,\n          'successfully': 4,\n          'OFFICIO': 1,\n          'Bethink': 3,\n          '1839': 3,\n          'exclusive': 1,\n          'queens': 5,\n          'Shut': 1,\n          'Ho': 22,\n          'bedraggled': 1,\n          'contrast': 12,\n          'fours': 1,\n          'Pictures': 3,\n          'medium': 2,\n          'vigilant': 3,\n          'elucidate': 1,\n          'hiding': 2,\n          'Smeerenberg': 1,\n          'rippling': 4,\n          'patronise': 1,\n          'flushed': 1,\n          'visitations': 1,\n          'hereditary': 7,\n          'luff': 1,\n          'linen': 4,\n          'scrabble': 1,\n          'mat': 11,\n          'malignantly': 1,\n          'furlongs': 3,\n          'gush': 6,\n          'Shirt': 1,\n          'broke': 12,\n          'transpired': 1,\n          '59': 1,\n          'Placing': 1,\n          'poorly': 1,\n          'suspect': 3,\n          'mystic': 17,\n          'vertebra': 4,\n          'anacondas': 1,\n          'expand': 6,\n          'foes': 6,\n          'Fe': 1,\n          'booming': 2,\n          'Aboard': 1,\n          'bells': 3,\n          'clustered': 2,\n          'ladies': 13,\n          'helpless': 4,\n          'noiselessly': 1,\n          ';--\"': 1,\n          'classical': 1,\n          'curvicues': 1,\n          'quaked': 1,\n          'prevents': 1,\n          'god': 20,\n          'doleful': 2,\n          'eel': 2,\n          'Korah': 1,\n          'seethingly': 1,\n          'meads': 2,\n          'BEWARE': 1,\n          'Brahmins': 1,\n          'solicitously': 1,\n          'hunting': 9,\n          'arriving': 2,\n          'reversing': 1,\n          'conveyance': 1,\n          'anticipated': 2,\n          'disturbing': 2,\n          'centres': 1,\n          'expensive': 2,\n          'low': 35,\n          '28': 1,\n          'district': 3,\n          'intervening': 3,\n          'turtle': 1,\n          'igniting': 2,\n          'petulance': 2,\n          'cavity': 5,\n          'suppose': 35,\n          'isolate': 1,\n          'archaeological': 1,\n          'Perth': 18,\n          'Squall': 2,\n          'CONVERSATIONS': 1,\n          'unquestionable': 3,\n          'Wretched': 1,\n          'coming': 50,\n          'architect': 2,\n          'receptive': 1,\n          'enhancing': 1,\n          'Dons': 3,\n          'being': 219,\n          'tints': 2,\n          'attest': 1,\n          'homage': 9,\n          'piggledy': 1,\n          'weasel': 1,\n          'stark': 9,\n          'gangs': 2,\n          'Tyre': 1,\n          'Bears': 1,\n          'etherial': 1,\n          'necklace': 2,\n          'Sirs': 1,\n          'remaining': 10,\n          'graze': 3,\n          'Aye': 87,\n          'Run': 3,\n          'roasted': 1,\n          'drowsy': 2,\n          'mended': 2,\n          'deliriums': 1,\n          'arranged': 1,\n          'NOUN': 1,\n          'walrus': 4,\n          'l': 1,\n          'channels': 2,\n          'sweat': 3,\n          'shocking': 3,\n          'scorching': 4,\n          'awaiting': 6,\n          'Hercules': 6,\n          'sat': 45,\n          'Plains': 1,\n          'confused': 2,\n          'organ': 8,\n          'surpassed': 1,\n          'danger': 7,\n          'wondrousness': 1,\n          'Skrimshander': 1,\n          'congenial': 5,\n          'altitudes': 2,\n          'draft': 1,\n          'lava': 1,\n          'planetarily': 1,\n          'manfully': 1,\n          'tripod': 1,\n          'Derick': 12,\n          'detestation': 2,\n          'colony': 1,\n          'liquid': 2,\n          'Formosa': 1,\n          'antiquities': 2,\n          'skipper': 2,\n          'Again': 9,\n          'paradise': 1,\n          'bake': 1,\n          'quickening': 2,\n          'might': 183,\n          'enjoined': 1,\n          'RETAKING': 1,\n          'tormenting': 2,\n          'Bones': 1,\n          'Matsmai': 1,\n          'Many': 5,\n          'tolerably': 2,\n          'inarticulate': 1,\n          'yokes': 1,\n          'essays': 3,\n          'wallow': 3,\n          'unfeatured': 1,\n          'rhyme': 1,\n          'nooks': 3,\n          '62': 1,\n          'REPEATED': 1,\n          'grandeur': 8,\n          'explain': 7,\n          'Fat': 2,\n          'coerced': 1,\n          'mouldy': 5,\n          'straggling': 1,\n          'yell': 2,\n          'Spanishly': 1,\n          'invite': 1,\n          'FRENCH': 5,\n          'invitingly': 1,\n          'hieroglyphic': 2,\n          'paces': 2,\n          'convex': 2,\n          'allurements': 1,\n          'juggling': 3,\n          'idle': 3,\n          'grass': 15,\n          'Assyrian': 1,\n          'Strength': 1,\n          'things': 132,\n          'destroying': 2,\n          'minded': 6,\n          'sad': 9,\n          'arrogance': 1,\n          'nonce': 2,\n          'wings': 7,\n          'salutation': 3,\n          'furnace': 3,\n          'executioner': 1,\n          'natured': 3,\n          'blackling': 1,\n          'crouching': 3,\n          'whereof': 4,\n          'EXCHANGING': 1,\n          'Carrol': 1,\n          'denominated': 4,\n          'colds': 1,\n          'antemosaic': 1,\n          'moodiness': 1,\n          'substance': 31,\n          'posture': 5,\n          'seated': 26,\n          'opposition': 1,\n          'ISLANDS': 1,\n          'shaded': 3,\n          'thickest': 4,\n          'Miserable': 1,\n          'e': 24,\n          'stone': 18,\n          'wolves': 2,\n          'arithmetic': 2,\n          'ago': 36,\n          'require': 4,\n          'frighten': 2,\n          'pinned': 1,\n          'reasonable': 8,\n          'SUMMER': 1,\n          'Most': 5,\n          'churchyard': 3,\n          'mutter': 3,\n          'cathedrals': 2,\n          'glee': 1,\n          'wasted': 5,\n          'antique': 5,\n          'gang': 1,\n          'deceiving': 1,\n          'striven': 1,\n          'perishing': 4,\n          'rising': 29,\n          'fixture': 1,\n          'painted': 12,\n          'rockets': 1,\n          'arpens': 1,\n          'Willoughby': 1,\n          'Ganders': 1,\n          'felonious': 1,\n          'threw': 10,\n          'sinews': 3,\n          'expense': 5,\n          'thy': 105,\n          'Come': 29,\n          'Back': 8,\n          'Philip': 1,\n          'excavation': 1,\n          'Railroads': 1,\n          'beams': 5,\n          'sterning': 2,\n          'darkened': 2,\n          'Him': 3,\n          'FORESAIL': 1,\n          'Consumptive': 1,\n          'hearse': 11,\n          'Pudding': 2,\n          'salutes': 1,\n          'Case': 3,\n          'fascinated': 2,\n          'pebbles': 1,\n          'pictorial': 1,\n          'presenting': 2,\n          'miscellaneous': 4,\n          'experienced': 11,\n          'phiz': 1,\n          'welded': 11,\n          'tally': 2,\n          'forty': 28,\n          'describe': 3,\n          'weazel': 1,\n          'thawed': 1,\n          'idiot': 4,\n          'brotherhood': 2,\n          'elves': 1,\n          'Hearkening': 1,\n          'Stiggs': 2,\n          'humorous': 6,\n          'si': 1,\n          'arts': 3,\n          'interlude': 4,\n          'suburbs': 1,\n          'smackingly': 1,\n          'HEREABOUTS': 1,\n          'Judea': 1,\n          'signifying': 1,\n          'clock': 16,\n          'lipped': 2,\n          'tranquillities': 1,\n          'creaking': 3,\n          'outset': 3,\n          'disengaged': 4,\n          'isle': 8,\n          'Wind': 1,\n          'unrestingly': 3,\n          'sing': 17,\n          'Trafalgar': 1,\n          'sated': 1,\n          'practised': 3,\n          'perspectives': 1,\n          'casting': 6,\n          'buoyed': 2,\n          'picture': 18,\n          'dissimilar': 2,\n          'relapses': 1,\n          'fork': 3,\n          'cash': 5,\n          'longest': 3,\n          'supernaturally': 1,\n          'vaulted': 2,\n          'stabbing': 3,\n          'famishing': 1,\n          'Mediterranean': 9,\n          'fertility': 1,\n          'Swackhammer': 1,\n          'Fool': 2,\n          'flaky': 1,\n          'Heeva': 2,\n          'pout': 3,\n          'tossed': 31,\n          'Silently': 1,\n          'clay': 5,\n          'preliminaries': 2,\n          'united': 6,\n          'Yale': 2,\n          'Spell': 1,\n          'Mysteriously': 1,\n          'astronomical': 1,\n          'band': 7,\n          'traces': 2,\n          'profound': 20,\n          'stayed': 7,\n          'bottles': 2,\n          'unnaturally': 1,\n          'clue': 3,\n          'hippogriff': 1,\n          'railways': 1,\n          'genuine': 3,\n          'topsail': 2,\n          'sturgeon': 3,\n          'gallantry': 2,\n          'inwards': 3,\n          'act': 30,\n          'owest': 1,\n          'greybeards': 1,\n          'behalf': 1,\n          'unprecedentedly': 1,\n          'placidity': 2,\n          'unfolding': 1,\n          'CLUSTERS': 1,\n          'wedded': 5,\n          'invert': 1,\n          'chuckled': 1,\n          'eventuated': 1,\n          'tailed': 3,\n          'Advancement': 1,\n          'Gesner': 1,\n          'IMPOSING': 1,\n          'transfigured': 1,\n          'corpse': 14,\n          'connexions': 1,\n          'difference': 18,\n          'sized': 6,\n          'tragedies': 2,\n          'imprecations': 1,\n          'barrow': 4,\n          'thinking': 25,\n          'Manillas': 1,\n          'blush': 1,\n          'thinks': 16,\n          'tranquillize': 2,\n          'craggy': 1,\n          'mast': 124,\n          'sadness': 2,\n          'invisible': 15,\n          'oblongs': 1,\n          'assailed': 1,\n          'Strictly': 2,\n          'NARRATIVE': 4,\n          'Common': 1,\n          'idea': 33,\n          'poop': 1,\n          'brother': 10,\n          'tug': 1,\n          'Figuera': 1,\n          'Certainly': 2,\n          'tigers': 2,\n          'terminating': 3,\n          'convulsively': 2,\n          'pause': 7,\n          'receding': 2,\n          'shame': 4,\n          'Societies': 1,\n          'him': 1058,\n          'bosky': 1,\n          'manufactured': 2,\n          'declaring': 3,\n          'whim': 3,\n          'durable': 1,\n          'warriors': 3,\n          'frigates': 2,\n          'consort': 3,\n          'gregarious': 3,\n          'ship': 507,\n          'brilliancy': 3,\n          'illuminating': 1,\n          'beat': 24,\n          'alb': 1,\n          'ergo': 2,\n          'ELLERY': 1,\n          'hearth': 7,\n          'shilling': 1,\n          'watching': 15,\n          'overstrained': 1,\n          'hempen': 7,\n          'wells': 1,\n          'overladen': 2,\n          'Lazarus': 5,\n          'upwards': 19,\n          'ULLOA': 1,\n          'tell': 122,\n          'rebounds': 2,\n          'GATHER': 1,\n          'spiral': 1,\n          'Mistress': 1,\n          'sufficient': 5,\n          'incredulous': 5,\n          'extracts': 4,\n          'assuring': 1,\n          'crashing': 1,\n          'jackasses': 1,\n          'impartial': 2,\n          'hunts': 2,\n          'maze': 2,\n          '74': 1,\n          'herrings': 1,\n          'baskets': 1,\n          'rag': 2,\n          'Apply': 1,\n          'stalwart': 1,\n          'reflections': 4,\n          'confidentially': 1,\n          'grammars': 2,\n          'vocation': 11,\n          'plans': 1,\n          'stock': 10,\n          'Prophet': 3,\n          'Sunset': 1,\n          'earthly': 16,\n          'keys': 2,\n          'Affected': 1,\n          'potent': 6,\n          'Face': 1,\n          'haired': 4,\n          'direst': 3,\n          'muscular': 1,\n          'Linnaeus': 5,\n          'tightened': 1,\n          'deputation': 1,\n          'adventure': 5,\n          'refrigerators': 1,\n          'Susan': 1,\n          'polish': 1,\n          'unobserved': 2,\n          'springing': 4,\n          'chosen': 3,\n          'denizen': 1,\n          'excited': 8,\n          'Island': 5,\n          'reliably': 2,\n          'plumes': 1,\n          'soldier': 1,\n          'inter': 1,\n          'paltry': 2,\n          'consciousness': 6,\n          'Chace': 3,\n          'Thrasher': 1,\n          'Seat': 1,\n          'rogue': 1,\n          'arrives': 1,\n          'solemnity': 2,\n          'deceived': 2,\n          'putting': 16,\n          'stationary': 4,\n          'resemble': 2,\n          'flitting': 6,\n          'Elephants': 1,\n          'subservient': 1,\n          'counterpart': 3,\n          'Midnight': 3,\n          'barely': 2,\n          'assassins': 1,\n          'Stand': 24,\n          'bowing': 6,\n          'bilocular': 1,\n          'seaweed': 1,\n          'awestruck': 1,\n          'agonized': 2,\n          'IAN': 1,\n          'Narwhale': 6,\n          'assignment': 1,\n          'simple': 11,\n          'triumphs': 1,\n          'Quakerish': 1,\n          'trod': 4,\n          'shuddering': 9,\n          'PARLIAMENT': 1,\n          'lamentable': 1,\n          'incurable': 1,\n          'SOMETHING': 1,\n          'tusked': 2,\n          'Antony': 1,\n          'Quakeress': 2,\n          'groom': 1,\n          'vowing': 1,\n          'prophesy': 2,\n          'headlong': 7,\n          'subtle': 11,\n          'swash': 1,\n          'shuffle': 1,\n          'Drive': 3,\n          'developments': 1,\n          'done': 74,\n          'throbbing': 3,\n          'pervading': 6,\n          'springy': 1,\n          'conscience': 12,\n          'unreasonable': 2,\n          \"'-\": 3,\n          'heed': 5,\n          'listener': 1,\n          'warned': 2,\n          'fogs': 1,\n          'magnetism': 1,\n          'remarking': 1,\n          'foamy': 1,\n          'obeyest': 1,\n          'glowed': 1,\n          'Headers': 1,\n          'WHALING': 8,\n          'averages': 3,\n          'colours': 5,\n          'provident': 1,\n          'executor': 1,\n          'spectre': 1,\n          'pester': 1,\n          'planks': 31,\n          'manikin': 1,\n          'ravished': 1,\n          'whaleman': 44,\n          'clenched': 5,\n          '!)\"': 1,\n          'occupants': 1,\n          'Boats': 1,\n          'pitch': 19,\n          'accuracy': 3,\n          'Folios': 1,\n          'Fain': 1,\n          'aggregation': 1,\n          'alter': 2,\n          'learning': 4,\n          'weariness': 3,\n          'Call': 3,\n          'SICILIAN': 2,\n          'routine': 1,\n          'literally': 4,\n          'refused': 4,\n          'Skin': 1,\n          'held': 37,\n          'prospect': 5,\n          'SPOUTINGS': 1,\n          'managed': 1,\n          'comported': 1,\n          'stereotype': 1,\n          'exploded': 1,\n          'bend': 5,\n          'marshal': 3,\n          'pockets': 8,\n          'outworks': 1,\n          'hull': 30,\n          'discipline': 1,\n          'incomputable': 1,\n          'winces': 1,\n          'responsible': 1,\n          'looked': 64,\n          'conveniently': 1,\n          'accelerated': 1,\n          'particles': 1,\n          'brawn': 2,\n          'feature': 5,\n          'vat': 1,\n          'mornings': 1,\n          'Bell': 2,\n          'invisibly': 2,\n          'somewhat': 27,\n          'Cassock': 1,\n          'APPROACHING': 1,\n          'fornication': 1,\n          'sheets': 10,\n          'catacombs': 1,\n          'wail': 2,\n          'truly': 19,\n          'bales': 2,\n          'Presently': 6,\n          'CRUISE': 2,\n          'frequendy': 1,\n          'leaps': 4,\n          'till': 121,\n          'shading': 1,\n          'moor': 1,\n          'unflinching': 2,\n          'Slowly': 3,\n          'murdering': 3,\n          'incidentally': 7,\n          'stead': 1,\n          'anyhow': 1,\n          'proclamation': 1,\n          'tranced': 3,\n          'protecting': 1,\n          'outstretched': 4,\n          'Manilla': 5,\n          'Mark': 6,\n          'cubic': 3,\n          'TRANS': 1,\n          'raised': 20,\n          'Sicilian': 1,\n          'arbitrary': 1,\n          'Propontis': 4,\n          'sternward': 1,\n          'mace': 1,\n          'short': 59,\n          'peppered': 1,\n          'incline': 2,\n          'Wolf': 2,\n          'flirted': 2,\n          'fraternity': 2,\n          'hears': 5,\n          'Pupella': 3,\n          'ominous': 3,\n          'hook': 16,\n          'heat': 16,\n          'smite': 2,\n          'commenting': 1,\n          'Yoke': 1,\n          'unrivalled': 2,\n          'sword': 23,\n          'creeps': 1,\n          'hovering': 10,\n          'worships': 2,\n          'eavesdroppers': 1,\n          'slow': 12,\n          'Euclid': 1,\n          'Loose': 14,\n          'controllable': 1,\n          'normal': 1,\n          'steadied': 1,\n          'domineerings': 1,\n          'choking': 3,\n          'invented': 2,\n          'heave': 16,\n          'hired': 1,\n          'whaler': 16,\n          'noted': 3,\n          'improbable': 1,\n          'wiping': 1,\n          'spreads': 1,\n          'selling': 2,\n          'opulent': 2,\n          'for': 1414,\n          'halibut': 1,\n          'carelessness': 1,\n          'full': 121,\n          'Delta': 1,\n          'conveyed': 4,\n          'dissect': 1,\n          'freezing': 2,\n          'losing': 4,\n          'matrimonial': 1,\n          'siskur': 1,\n          'listening': 4,\n          'adoring': 1,\n          'saved': 6,\n          'tumblers': 1,\n          'Hoe': 1,\n          'pleasant': 16,\n          'hide': 6,\n          'pushes': 1,\n          'mackerel': 1,\n          'reasonably': 2,\n          'completely': 33,\n          'deviations': 1,\n          'madest': 1,\n          'bulwarks': 36,\n          'splashing': 1,\n          'wherever': 6,\n          'marble': 14,\n          'discreetly': 1,\n          'conspire': 1,\n          'swerved': 1,\n          'apparelled': 2,\n          'bannered': 1,\n          'dropt': 2,\n          'return': 13,\n          'tun': 3,\n          'interesting': 8,\n          'seeing': 28,\n          'Rarmai': 1,\n          'dipped': 3,\n          'parson': 3,\n          'schooner': 5,\n          'weep': 2,\n          'freckles': 1,\n          'circles': 13,\n          'progenitors': 1,\n          'onsets': 1,\n          'unwaning': 3,\n          'turban': 2,\n          'documents': 2,\n          'exercise': 3,\n          'parlor': 6,\n          'nieces': 1,\n          'charmed': 3,\n          'Least': 1,\n          'Ages': 1,\n          'dispirits': 1,\n          'orange': 3,\n          'unfrequent': 2,\n          'anxiety': 3,\n          'abandonedly': 1,\n          'alone': 37,\n          'vitals': 1,\n          'Reality': 1,\n          'inlander': 1,\n          'construction': 1,\n          'irresponsible': 1,\n          'thought': 149,\n          'warfare': 1,\n          'swindle': 1,\n          'stowaways': 1,\n          'narwhale': 3,\n          'assisting': 1,\n          'thin': 17,\n          'Turning': 1,\n          'Lesson': 1,\n          'writhed': 1,\n          'alms': 2,\n          'origin': 3,\n          'lace': 2,\n          ...})"
      ]
     },
     "execution_count": 32,
     "metadata": {},
     "output_type": "execute_result"
    }
   ],
   "source": [
    "fdist1=FreqDist(text1)\n",
    " fdist1"
   ]
  },
  {
   "cell_type": "code",
   "execution_count": 33,
   "metadata": {},
   "outputs": [
    {
     "data": {
      "text/plain": [
       "13721"
      ]
     },
     "execution_count": 33,
     "metadata": {},
     "output_type": "execute_result"
    }
   ],
   "source": [
    "fdist1['the'] #指定某个词的频率"
   ]
  },
  {
   "cell_type": "code",
   "execution_count": 35,
   "metadata": {
    "collapsed": false
   },
   "outputs": [
    {
     "data": {
      "image/png": "[encoded data removed]",
      "text/plain": [
       "<matplotlib.figure.Figure at 0x2bb41739c50>"
      ]
     },
     "metadata": {},
     "output_type": "display_data"
    }
   ],
   "source": [
    "fdist1.plot(10,cumulative=True)"
   ]
  },
  {
   "cell_type": "code",
   "execution_count": 4,
   "metadata": {
    "collapsed": true
   },
   "outputs": [
    {
     "name": "stdout",
     "output_type": "stream",
     "text": [
      "['一', '友情', '嘉珍', '和', '我', '住在', '同一條', '巷子', '我們', ...]\n"
     ]
    }
   ],
   "source": [
    "import nltk\n",
    "from nltk.corpus import sinica_treebank\n",
    " \n",
    "print(sinica_treebank.words())\n",
    "sinica_treebank.parsed_sents()[33].draw()"
   ]
  },
  {
   "cell_type": "code",
   "execution_count": 29,
   "metadata": {
    "collapsed": false
   },
   "outputs": [
    {
     "name": "stdout",
     "output_type": "stream",
     "text": [
      "['Beautiful', ' is', 'better', 'than', 'ugly']\n"
     ]
    }
   ],
   "source": [
    "import re\n",
    "a='Beautiful, is; better*than\\nugly'\n",
    "# 四个分隔符为：,  ;  *  \\n\n",
    "x= re.split(',|; |\\*|\\n',a)\n",
    "print(x)"
   ]
  },
  {
   "cell_type": "code",
   "execution_count": 38,
   "metadata": {
    "collapsed": false
   },
   "outputs": [
    {
     "name": "stdout",
     "output_type": "stream",
     "text": [
      "['智能短信应答服务量', '18，智能短信应答弹窗量', '123 ']\n"
     ]
    }
   ],
   "source": [
    "a='智能短信应答服务量,18，智能短信应答弹窗量,123 '\n",
    "x= re.split(',|; |\\*|\\n',a)\n",
    "print(x)"
   ]
  },
  {
   "cell_type": "code",
   "execution_count": 41,
   "metadata": {
    "collapsed": true
   },
   "outputs": [
    {
     "name": "stdout",
     "output_type": "stream",
     "text": [
      "['智能短信应答服务量,18，智能短信应答弹窗量,123 ']\n"
     ]
    }
   ],
   "source": [
    "a='智能短信应答服务量,18，智能短信应答弹窗量,123 '\n",
    "x= re.split(' [\\u4e00-\\u9fa5]',a)\n",
    "print(x)"
   ]
  },
  {
   "cell_type": "code",
   "execution_count": 62,
   "metadata": {
    "collapsed": true
   },
   "outputs": [
    {
     "data": {
      "text/plain": [
       "['CIRCUMNAVIGATION',\n 'Physiognomically',\n 'apprehensiveness',\n 'cannibalistically',\n 'characteristically',\n 'circumnavigating',\n 'circumnavigation',\n 'circumnavigations',\n 'comprehensiveness',\n 'hermaphroditical',\n 'indiscriminately',\n 'indispensableness',\n 'irresistibleness',\n 'physiognomically',\n 'preternaturalness',\n 'responsibilities',\n 'simultaneousness',\n 'subterraneousness',\n 'supernaturalness',\n 'superstitiousness',\n 'uncomfortableness',\n 'uncompromisedness',\n 'undiscriminating',\n 'uninterpenetratingly']"
      ]
     },
     "execution_count": 62,
     "metadata": {},
     "output_type": "execute_result"
    }
   ],
   "source": [
    "fdist1=FreqDist(text1)\n",
    "#fdist1.hapaxes() #低频词出现1次查找\n",
    "V=set(text1)\n",
    "longwords=[w for w in V if len(w) > 15]\n",
    "\n",
    "sorted(longwords)"
   ]
  },
  {
   "cell_type": "code",
   "execution_count": 65,
   "metadata": {
    "collapsed": true
   },
   "outputs": [
    {
     "data": {
      "text/plain": [
       "['Queequeg', 'Starbuck', 'something']"
      ]
     },
     "execution_count": 65,
     "metadata": {},
     "output_type": "execute_result"
    }
   ],
   "source": [
    "sorted(w for w in set(text1) if len(w) > 7 and fdist1[w] > 100) #查询文本中单词长度大于7并且出现次数超过100次的"
   ]
  },
  {
   "cell_type": "code",
   "execution_count": null,
   "metadata": {},
   "outputs": [],
   "source": [
    "from nltk import bigrams\n",
    "from collections import Counter\n",
    "b = bigrams('This is a test')"
   ]
  },
  {
   "cell_type": "code",
   "execution_count": null,
   "metadata": {},
   "outputs": [],
   "source": [
    ""
   ]
  }
 ],
 "metadata": {
  "kernelspec": {
   "display_name": "Python 2",
   "language": "python",
   "name": "python2"
  },
  "language_info": {
   "codemirror_mode": {
    "name": "ipython",
    "version": 2.0
   },
   "file_extension": ".py",
   "mimetype": "text/x-python",
   "name": "python",
   "nbconvert_exporter": "python",
   "pygments_lexer": "ipython2",
   "version": "2.7.6"
  }
 },
 "nbformat": 4,
 "nbformat_minor": 0
}