{
 "cells": [
  {
   "cell_type": "markdown",
   "metadata": {
    "collapsed": true
   },
   "source": [
    "机器学习是人工智能的一个分支，更确切的说是研究够从数据中学习并产生新知识的系统和算法的计算机科学。\n",
    " 机器学习中的学习这个单词直观的表明这类系统是，在之前处理过的数据的观察基础上是，为了在未来获得更好的效果，或者说提供更接近想要的结果的特定系统。\n",
    " 程序或者系统基于机器学习在特定任务提高其表现的能力，是和他在数据上的识别模式息息相关，这节的主题，是模式识别，因此它是至关重要的，是人工智能的关注点，也是机器学习的基本技术。\n",
    "#### 机器学习系统的训练可以分为两种方式：\n",
    "- 监督学习\n",
    "- 无监督学习\n",
    " \n",
    "\n"
   ]
  },
  {
   "cell_type": "markdown",
   "metadata": {},
   "source": [
    "####　Python基础语法,"
   ]
  },
  {
   "cell_type": "code",
   "execution_count": 11,
   "metadata": {},
   "outputs": [
    {
     "name": "stdout",
     "output_type": "stream",
     "text": [
      "5\n4\n"
     ]
    }
   ],
   "source": [
    "myvar = 3\n",
    "myvar+=2\n",
    "print(myvar)\n",
    "myvar -= 1\n",
    "print(myvar)"
   ]
  },
  {
   "cell_type": "code",
   "execution_count": 12,
   "metadata": {
    "collapsed": false
   },
   "outputs": [
    {
     "name": "stdout",
     "output_type": "stream",
     "text": [
      " this is chenfenghui,i love you\n"
     ]
    }
   ],
   "source": [
    "mystring=\" this is chenfenghui,\"\n",
    "mystring+=\"i love you\"\n",
    "print(mystring)"
   ]
  },
  {
   "cell_type": "code",
   "execution_count": 36,
   "metadata": {
    "collapsed": true
   },
   "outputs": [
    {
     "name": "stdout",
     "output_type": "stream",
     "text": [
      "('one', 'tuple')\n[['list1', 'list2']]\n1234\n5677\n8899\n0 1234\n1 5677\n2 8899\n0 : 1234\n1 : 5677\n2 : 8899\n1234\n5677\n8899\n"
     ]
    }
   ],
   "source": [
    "#在Python中最具代表性的数据结构是列表，元组和字典\n",
    "\n",
    "example = [1, [\"list1\", \"list2\"], (\"one\", \"tuple\")]\n",
    "mylist = [\"Element 1\", 2, 3.14]\n",
    "print(example[2])\n",
    "print(example[1:2])\n",
    "\n",
    "#遍历表的方法1\n",
    "app_list = [1234, 5677, 8899]\n",
    "\n",
    "for app_id in app_list:\n",
    "    print (app_id)\n",
    "    \n",
    "#遍历表的方法2\n",
    "app_list = [1234, 5677, 8899]\n",
    "for app_index,app_id in enumerate(app_list): \n",
    "    print (app_index,app_id)\n",
    "    \n",
    "#遍历表的方法3\n",
    "app_list = [1234, 5677, 8899]\n",
    "for i in range(len(app_list)):\n",
    "    print(i,':',app_list[i])\n",
    "    \n",
    "#遍历表的方法4\n",
    "app_list = [1234, 5677, 8899]\n",
    "\n",
    "for app_id in iter(app_list):\n",
    "    print(app_id)"
   ]
  },
  {
   "cell_type": "code",
   "execution_count": 2,
   "metadata": {},
   "outputs": [
    {
     "data": {
      "text/plain": [
       "DatetimeIndex(['1970-01-01'], dtype='datetime64[ns]', freq='B')"
      ]
     },
     "execution_count": 2,
     "metadata": {},
     "output_type": "execute_result"
    }
   ],
   "source": [
    ""
   ]
  },
  {
   "cell_type": "code",
   "execution_count": null,
   "metadata": {},
   "outputs": [],
   "source": [
    ""
   ]
  },
  {
   "cell_type": "code",
   "execution_count": 5,
   "metadata": {
    "collapsed": false
   },
   "outputs": [
    {
     "name": "stdout",
     "output_type": "stream",
     "text": [
      "190\n"
     ]
    }
   ],
   "source": [
    "#启动tensorboard\n",
    "import tensorflow as tf\n",
    "a = tf.constant(10,name=\"a\")\n",
    "b = tf.constant(90,name=\"b\")\n",
    "y = tf.Variable(a+b*2,name='y')\n",
    "model = tf.global_variables_initializer()\n",
    "with tf.Session() as session:\n",
    "     merged = tf.summary.merge_all()\n",
    "     writer = tf.summary.FileWriter(\"/tmp/tensorflowlogs\",session.graph)\n",
    "     session.run(model)\n",
    "     print(session.run(y))\n",
    "     # 然后进入到d: /tmp/tensorflowlogs 手工在命令行输入tensorboard --logdir=."
   ]
  },
  {
   "cell_type": "code",
   "execution_count": 35,
   "metadata": {},
   "outputs": [
    {
     "data": {
      "text/plain": [
       "3"
      ]
     },
     "execution_count": 35,
     "metadata": {},
     "output_type": "execute_result"
    }
   ],
   "source": [
    "#字典\n",
    "mydict = {\"Key 1\": \"Val 1\", 2: 3, \"pi\": 3.14}\n",
    "mydict [2]"
   ]
  },
  {
   "cell_type": "code",
   "execution_count": null,
   "metadata": {},
   "outputs": [],
   "source": [
    "#元组\n",
    "mytuple = (1, 2, 3)"
   ]
  },
  {
   "cell_type": "code",
   "execution_count": 93,
   "metadata": {
    "collapsed": true
   },
   "outputs": [
    {
     "name": "stdout",
     "output_type": "stream",
     "text": [
      "this is an apple 3\nthis is apple an\n"
     ]
    }
   ],
   "source": [
    "#字符串\n",
    "a = 'this is %s %s %d' % ('an','apple',3.66565)\n",
    "print(a)\n",
    "a = 'this is {} {}'.format('apple','an') #format 方法\n",
    "print(a)"
   ]
  },
  {
   "cell_type": "code",
   "execution_count": 86,
   "metadata": {
    "collapsed": true
   },
   "outputs": [
    {
     "name": "stdout",
     "output_type": "stream",
     "text": [
      "2\n11\n"
     ]
    }
   ],
   "source": [
    "funzionevar = lambda x: x + 1\n",
    "print(funzionevar(1))\n",
    "\n",
    "def f(x):\n",
    "    return x+5\n",
    "\n",
    "print(f(6))"
   ]
  },
  {
   "cell_type": "code",
   "execution_count": 111,
   "metadata": {
    "collapsed": false
   },
   "outputs": [
    {
     "name": "stdout",
     "output_type": "stream",
     "text": [
      "Oops, error\nfinish\n"
     ]
    }
   ],
   "source": [
    "#异常捕获\n",
    "def example():\n",
    "   try:\n",
    "    1/0\n",
    "   except ZeroDivisionError   as e:\n",
    "             print(\"Oops, error\")\n",
    "   else:\n",
    "       pass\n",
    "   finally:\n",
    "      print(\"finish\")\n",
    "example()         \n",
    "\n",
    "# This code is executed when the block\n",
    "# Try..except is already executed and all exceptions\n",
    "# Were handled, even if there is a new\n",
    "# Exception directly in the block."
   ]
  },
  {
   "cell_type": "code",
   "execution_count": 91,
   "metadata": {
    "collapsed": false
   },
   "outputs": [
    {
     "name": "stdout",
     "output_type": "stream",
     "text": [
      "b'hello TensorFlow!'\n"
     ]
    }
   ],
   "source": [
    "#tensorflow hello word\n",
    "import tensorflow as tf\n",
    "hello = tf.constant(\"hello TensorFlow!\")\n",
    "sess=tf.Session()\n",
    "print(sess.run(hello))"
   ]
  },
  {
   "cell_type": "code",
   "execution_count": 122,
   "metadata": {},
   "outputs": [
    {
     "name": "stdout",
     "output_type": "stream",
     "text": [
      "Tensor(\"y_6/read:0\", shape=(), dtype=int32)\n"
     ]
    }
   ],
   "source": [
    "x=1\n",
    "y=x+1\n",
    "import tensorflow as tf\n",
    "x=tf.constant(1,name=\"x\")\n",
    "y=tf.Variable(x+1,name=\"y\")\n",
    "print(y)"
   ]
  },
  {
   "cell_type": "code",
   "execution_count": 125,
   "metadata": {},
   "outputs": [
    {
     "name": "stdout",
     "output_type": "stream",
     "text": [
      "10\nTensor(\"y_9/read:0\", shape=(), dtype=int32)\n"
     ]
    },
    {
     "name": "stdout",
     "output_type": "stream",
     "text": [
      "10\n"
     ]
    }
   ],
   "source": [
    "#first example\n",
    "x = 1\n",
    "y = x + 9\n",
    "print(y)\n",
    "import tensorflow as tf\n",
    "x = tf.constant(1,name='x')\n",
    "y = tf.Variable(x+9,name='y')\n",
    "print(y)\n",
    "model=tf.global_variables_initializer()\n",
    "with tf.Session() as session:\n",
    "    session.run(model)\n",
    "    print(session.run(y))  #The value is not computed until the session is executed"
   ]
  },
  {
   "cell_type": "code",
   "execution_count": null,
   "metadata": {},
   "outputs": [],
   "source": [
    "A machine learning application is the result of the repeated computation of complex\n",
    "mathematical expressions. In TensorFlow, a computation is described using the Data\n",
    "Flow Graph, where each node in the graph represents the instance of a mathematical\n",
    "operation ( multiply , add , divide , and so on), and each edge is a multi-dimensional\n",
    "data set (tensors) on which the operations are performed."
   ]
  },
  {
   "cell_type": "code",
   "execution_count": null,
   "metadata": {},
   "outputs": [],
   "source": [
    ""
   ]
  }
 ],
 "metadata": {
  "kernelspec": {
   "display_name": "Python 2",
   "language": "python",
   "name": "python2"
  },
  "language_info": {
   "codemirror_mode": {
    "name": "ipython",
    "version": 2.0
   },
   "file_extension": ".py",
   "mimetype": "text/x-python",
   "name": "python",
   "nbconvert_exporter": "python",
   "pygments_lexer": "ipython2",
   "version": "2.7.6"
  }
 },
 "nbformat": 4,
 "nbformat_minor": 0
}