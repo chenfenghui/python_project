{
 "cells": [
  {
   "cell_type": "markdown",
   "metadata": {
    "collapsed": true
   },
   "source": [
    "机器学习是人工智能的一个分支，更确切的说是研究够从数据中学习并产生新知识的系统和算法的计算机科学。\n",
    " 机器学习中的学习这个单词直观的表明这类系统是，在之前处理过的数据的观察基础上是，为了在未来获得更好的效果，或者说提供更接近想要的结果的特定系统。\n",
    " 程序或者系统基于机器学习在特定任务提高其表现的能力，是和他在数据上的识别模式息息相关，这节的主题，是模式识别，因此它是至关重要的，是人工智能的关注点，也是机器学习的基本技术。\n",
    "#### 机器学习系统的训练可以分为两种方式：\n",
    "- 监督学习\n",
    "- 无监督学习\n",
    " \n",
    "\n"
   ]
  },
  {
   "cell_type": "markdown",
   "metadata": {},
   "source": [
    "####　Python基础语法,"
   ]
  },
  {
   "cell_type": "code",
   "execution_count": 11,
   "metadata": {},
   "outputs": [
    {
     "name": "stdout",
     "output_type": "stream",
     "text": [
      "5\n4\n"
     ]
    }
   ],
   "source": [
    "myvar = 3\n",
    "myvar+=2\n",
    "print(myvar)\n",
    "myvar -= 1\n",
    "print(myvar)"
   ]
  },
  {
   "cell_type": "code",
   "execution_count": 12,
   "metadata": {
    "collapsed": false
   },
   "outputs": [
    {
     "name": "stdout",
     "output_type": "stream",
     "text": [
      " this is chenfenghui,i love you\n"
     ]
    }
   ],
   "source": [
    "mystring=\" this is chenfenghui,\"\n",
    "mystring+=\"i love you\"\n",
    "print(mystring)"
   ]
  },
  {
   "cell_type": "code",
   "execution_count": 36,
   "metadata": {
    "collapsed": true
   },
   "outputs": [
    {
     "name": "stdout",
     "output_type": "stream",
     "text": [
      "('one', 'tuple')\n[['list1', 'list2']]\n1234\n5677\n8899\n0 1234\n1 5677\n2 8899\n0 : 1234\n1 : 5677\n2 : 8899\n1234\n5677\n8899\n"
     ]
    }
   ],
   "source": [
    "#在Python中最具代表性的数据结构是列表，元组和字典\n",
    "\n",
    "example = [1, [\"list1\", \"list2\"], (\"one\", \"tuple\")]\n",
    "mylist = [\"Element 1\", 2, 3.14]\n",
    "print(example[2])\n",
    "print(example[1:2])\n",
    "\n",
    "#遍历表的方法1\n",
    "app_list = [1234, 5677, 8899]\n",
    "\n",
    "for app_id in app_list:\n",
    "    print (app_id)\n",
    "    \n",
    "#遍历表的方法2\n",
    "app_list = [1234, 5677, 8899]\n",
    "for app_index,app_id in enumerate(app_list): \n",
    "    print (app_index,app_id)\n",
    "    \n",
    "#遍历表的方法3\n",
    "app_list = [1234, 5677, 8899]\n",
    "for i in range(len(app_list)):\n",
    "    print(i,':',app_list[i])\n",
    "    \n",
    "#遍历表的方法4\n",
    "app_list = [1234, 5677, 8899]\n",
    "\n",
    "for app_id in iter(app_list):\n",
    "    print(app_id)"
   ]
  },
  {
   "cell_type": "code",
   "execution_count": 2,
   "metadata": {},
   "outputs": [
    {
     "data": {
      "text/plain": [
       "DatetimeIndex(['1970-01-01'], dtype='datetime64[ns]', freq='B')"
      ]
     },
     "execution_count": 2,
     "metadata": {},
     "output_type": "execute_result"
    }
   ],
   "source": [
    ""
   ]
  },
  {
   "cell_type": "code",
   "execution_count": null,
   "metadata": {},
   "outputs": [],
   "source": [
    ""
   ]
  },
  {
   "cell_type": "code",
   "execution_count": 5,
   "metadata": {
    "collapsed": false
   },
   "outputs": [
    {
     "name": "stdout",
     "output_type": "stream",
     "text": [
      "190\n"
     ]
    }
   ],
   "source": [
    "#启动tensorboard\n",
    "import tensorflow as tf\n",
    "a = tf.constant(10,name=\"a\")\n",
    "b = tf.constant(90,name=\"b\")\n",
    "y = tf.Variable(a+b*2,name='y')\n",
    "model = tf.global_variables_initializer()\n",
    "with tf.Session() as session:\n",
    "     merged = tf.summary.merge_all()\n",
    "     writer = tf.summary.FileWriter(\"/tmp/tensorflowlogs\",session.graph)\n",
    "     session.run(model)\n",
    "     print(session.run(y))\n",
    "     # 然后进入到d: /tmp/tensorflowlogs 手工在命令行输入tensorboard --logdir=."
   ]
  },
  {
   "cell_type": "code",
   "execution_count": 35,
   "metadata": {},
   "outputs": [
    {
     "data": {
      "text/plain": [
       "3"
      ]
     },
     "execution_count": 35,
     "metadata": {},
     "output_type": "execute_result"
    }
   ],
   "source": [
    "#字典\n",
    "mydict = {\"Key 1\": \"Val 1\", 2: 3, \"pi\": 3.14}\n",
    "mydict [2]"
   ]
  },
  {
   "cell_type": "code",
   "execution_count": null,
   "metadata": {},
   "outputs": [],
   "source": [
    "#元租\n",
    "mytuple = (1, 2, 3)\n"
   ]
  },
  {
   "cell_type": "code",
   "execution_count": 46,
   "metadata": {},
   "outputs": [
    {
     "ename": "KeyError",
     "evalue": "'verbo'",
     "traceback": [
      "\u001b[0;31m---------------------------------------------------------------------------\u001b[0m",
      "\u001b[0;31mKeyError\u001b[0m                                  Traceback (most recent call last)",
      "\u001b[0;32m<ipython-input-46-8bca788cace5>\u001b[0m in \u001b[0;36m<module>\u001b[0;34m()\u001b[0m\n\u001b[1;32m      1\u001b[0m \u001b[1;31m#字符串\u001b[0m\u001b[1;33m\u001b[0m\u001b[1;33m\u001b[0m\u001b[0m\n\u001b[0;32m----> 2\u001b[0;31m \u001b[0mprint\u001b[0m\u001b[1;33m(\u001b[0m\u001b[1;34m\"This %(verbo)s un %(name)s.\"\u001b[0m \u001b[1;33m%\u001b[0m \u001b[1;33m{\u001b[0m\u001b[1;34m\"name\"\u001b[0m\u001b[1;33m:\u001b[0m \u001b[1;34m\"test\"\u001b[0m\u001b[1;33m,\u001b[0m \u001b[1;34m\"verb\"\u001b[0m\u001b[1;33m:\u001b[0m\u001b[1;34m\"is\"\u001b[0m\u001b[1;33m}\u001b[0m\u001b[1;33m)\u001b[0m\u001b[1;33m\u001b[0m\u001b[0m\n\u001b[0m",
      "\u001b[0;31mKeyError\u001b[0m: 'verbo'"
     ],
     "output_type": "error"
    }
   ],
   "source": [
    "#字符串\n",
    "print(\"This %(verbo)s un %(name)s.\" % {\"name\": \"test\", \"verb\":\"is\"})"
   ]
  },
  {
   "cell_type": "code",
   "execution_count": 58,
   "metadata": {
    "collapsed": true
   },
   "outputs": [
    {
     "data": {
      "text/plain": [
       "'this is an apple 3'"
      ]
     },
     "execution_count": 58,
     "metadata": {},
     "output_type": "execute_result"
    }
   ],
   "source": [
    "a = 'this is %s %s %d' % ('an','apple',3.66565)\n",
    "a"
   ]
  },
  {
   "cell_type": "code",
   "execution_count": 63,
   "metadata": {
    "collapsed": true
   },
   "outputs": [
    {
     "ename": "IndentationError",
     "evalue": "expected an indented block (<ipython-input-63-75f7977a610c>, line 2)",
     "traceback": [
      "\u001b[0;36m  File \u001b[0;32m\"<ipython-input-63-75f7977a610c>\"\u001b[0;36m, line \u001b[0;32m2\u001b[0m\n\u001b[0;31m    if number in (3, 4, 7, 9):\u001b[0m\n\u001b[0m     ^\u001b[0m\n\u001b[0;31mIndentationError\u001b[0m\u001b[0;31m:\u001b[0m expected an indented block\n"
     ],
     "output_type": "error"
    }
   ],
   "source": [
    "for number in rangelist:\n",
    "if number in (3, 4, 7, 9):\n",
    "   # \"Break\" ends the for instruction without the else clause\n",
    "   break\n",
    "else:\n",
    "# \"Continue\" continues with the next iteration of the loop\n",
    "  continue\n",
    "else:\n",
    "# this is an optional \"else\"\n",
    "# executed only if the loop is not interrupted with \"break\".\n",
    "  pass # it does nothing\n",
    "if rangelist[1] == 2:\n",
    "  print \"the second element (lists are 0-based) is 2\"\n",
    "elif rangelist[1] == 3:\n",
    "  print \"the second element is 3\"\n",
    "else:\n",
    "  print \"I don't know\"\n",
    "while rangelist[1] == 1:\n",
    "  pass"
   ]
  },
  {
   "cell_type": "code",
   "execution_count": null,
   "metadata": {},
   "outputs": [],
   "source": [
    ""
   ]
  }
 ],
 "metadata": {
  "kernelspec": {
   "display_name": "Python 2",
   "language": "python",
   "name": "python2"
  },
  "language_info": {
   "codemirror_mode": {
    "name": "ipython",
    "version": 2.0
   },
   "file_extension": ".py",
   "mimetype": "text/x-python",
   "name": "python",
   "nbconvert_exporter": "python",
   "pygments_lexer": "ipython2",
   "version": "2.7.6"
  }
 },
 "nbformat": 4,
 "nbformat_minor": 0
}