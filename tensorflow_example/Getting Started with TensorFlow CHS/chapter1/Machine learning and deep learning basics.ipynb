{
 "cells": [
  {
   "cell_type": "markdown",
   "metadata": {
    "collapsed": true
   },
   "source": [
    "机器学习是人工智能的一个分支，更确切的说是研究够从数据中学习并产生新知识的系统和算法的计算机科学。\n",
    " 机器学习中的学习这个单词直观的表明这类系统是，在之前处理过的数据的观察基础上是，为了在未来获得更好的效果，或者说提供更接近想要的结果的特定系统。\n",
    " 程序或者系统基于机器学习在特定任务提高其表现的能力，是和他在数据上的识别模式息息相关，这节的主题，是模式识别，因此它是至关重要的，是人工智能的关注点，也是机器学习的基本技术。\n",
    "#### 机器学习系统的训练可以分为两种方式：\n",
    "- 监督学习\n",
    "- 无监督学习\n",
    " \n",
    "\n"
   ]
  },
  {
   "cell_type": "markdown",
   "metadata": {},
   "source": [
    ""
   ]
  },
  {
   "cell_type": "code",
   "execution_count": 2,
   "metadata": {},
   "outputs": [
    {
     "data": {
      "text/plain": [
       "DatetimeIndex(['1970-01-01'], dtype='datetime64[ns]', freq='B')"
      ]
     },
     "execution_count": 2,
     "metadata": {},
     "output_type": "execute_result"
    }
   ],
   "source": [
    "import pandas as pd\n",
    "pd.bdate_range(1,23)"
   ]
  },
  {
   "cell_type": "code",
   "execution_count": 5,
   "metadata": {
    "collapsed": false
   },
   "outputs": [
    {
     "name": "stdout",
     "output_type": "stream",
     "text": [
      "190\n"
     ]
    }
   ],
   "source": [
    "#启动tensorboard\n",
    "import tensorflow as tf\n",
    "a = tf.constant(10,name=\"a\")\n",
    "b = tf.constant(90,name=\"b\")\n",
    "y = tf.Variable(a+b*2,name='y')\n",
    "model = tf.global_variables_initializer()\n",
    "with tf.Session() as session:\n",
    "     merged = tf.summary.merge_all()\n",
    "     writer = tf.summary.FileWriter(\"/tmp/tensorflowlogs\",session.graph)\n",
    "     session.run(model)\n",
    "     print(session.run(y))\n",
    "     # 然后进入到d: /tmp/tensorflowlogs 手工在命令行输入tensorboard --logdir=."
   ]
  },
  {
   "cell_type": "code",
   "execution_count": null,
   "metadata": {},
   "outputs": [],
   "source": [
    ""
   ]
  }
 ],
 "metadata": {
  "kernelspec": {
   "display_name": "Python 2",
   "language": "python",
   "name": "python2"
  },
  "language_info": {
   "codemirror_mode": {
    "name": "ipython",
    "version": 2.0
   },
   "file_extension": ".py",
   "mimetype": "text/x-python",
   "name": "python",
   "nbconvert_exporter": "python",
   "pygments_lexer": "ipython2",
   "version": "2.7.6"
  }
 },
 "nbformat": 4,
 "nbformat_minor": 0
}