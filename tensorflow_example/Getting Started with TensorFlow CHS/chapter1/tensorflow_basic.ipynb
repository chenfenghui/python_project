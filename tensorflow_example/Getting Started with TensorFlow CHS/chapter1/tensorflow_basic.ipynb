{
 "cells": [
  {
   "cell_type": "code",
   "execution_count": 5,
   "metadata": {
    "collapsed": true
   },
   "outputs": [],
   "source": [
    "import tensorflow as tf\n",
    "\n",
    "x = tf.constant(1, name='x')\n",
    "y = tf.Variable(x+9,name='y')"
   ]
  },
  {
   "cell_type": "code",
   "execution_count": 7,
   "metadata": {
    "collapsed": true
   },
   "outputs": [
    {
     "name": "stdout",
     "output_type": "stream",
     "text": [
      "10\n"
     ]
    }
   ],
   "source": [
    "model = tf.global_variables_initializer()\n",
    "\n",
    "with tf.Session() as session:\n",
    "    session.run(model)\n",
    "    print(session.run(y))"
   ]
  },
  {
   "cell_type": "code",
   "execution_count": 13,
   "metadata": {
    "collapsed": false
   },
   "outputs": [
    {
     "name": "stdout",
     "output_type": "stream",
     "text": [
      "30\n"
     ]
    }
   ],
   "source": [
    "import tensorflow as tf\n",
    "a=tf.placeholder(\"int32\")\n",
    "b=tf.placeholder(\"int32\")\n",
    "y=tf.multiply(a,b)\n",
    "sess=tf.Session()\n",
    "print(sess.run(y,feed_dict={a: 6, b: 5}))"
   ]
  },
  {
   "cell_type": "code",
   "execution_count": 3,
   "metadata": {
    "collapsed": false
   },
   "outputs": [
    {
     "name": "stdout",
     "output_type": "stream",
     "text": [
      "190\n"
     ]
    }
   ],
   "source": [
    ""
   ]
  },
  {
   "cell_type": "code",
   "execution_count": 1,
   "metadata": {},
   "outputs": [
    {
     "data": {
      "text/plain": [
       "<tf.Tensor 'Abs:0' shape=() dtype=int32>"
      ]
     },
     "execution_count": 1,
     "metadata": {},
     "output_type": "execute_result"
    },
    {
     "data": {
      "text/plain": [
       "<tf.Tensor 'Abs:0' shape=() dtype=int32>"
      ]
     },
     "execution_count": 1,
     "metadata": {},
     "output_type": "execute_result"
    }
   ],
   "source": [
    "import  tensorflow as tf\n",
    "tf.conv"
   ]
  },
  {
   "cell_type": "code",
   "execution_count": 2,
   "metadata": {
    "collapsed": true
   },
   "outputs": [
    {
     "name": "stdout",
     "output_type": "stream",
     "text": [
      "Tensor(\"Const_1:0\", shape=(3,), dtype=float64)\n[ 1.  2.  4.]\n4.0\n"
     ]
    }
   ],
   "source": [
    "import tensorflow as tf\n",
    "import numpy as np\n",
    "tensor_1d=np.array([1,2,4])\n",
    "tf_tensor_1d=tf.convert_to_tensor(tensor_1d,dtype=tf.float64)\n",
    "print(tf_tensor_1d)\n",
    "with tf.Session() as session:\n",
    "     print(session.run(tf_tensor_1d))\n",
    "     print(session.run(tf_tensor_1d[2]))"
   ]
  },
  {
   "cell_type": "code",
   "execution_count": 16,
   "metadata": {
    "collapsed": false
   },
   "outputs": [
    {
     "name": "stdout",
     "output_type": "stream",
     "text": [
      "[[2 2 2]\n [2 2 2]\n [2 2 2]]\nTensor(\"Const_22:0\", shape=(3, 3), dtype=int32)\nTensor(\"Mul_9:0\", shape=(3, 3), dtype=int32)\nTensor(\"Add_7:0\", shape=(3, 3), dtype=int32)\nTensor(\"MatrixDeterminant_6:0\", shape=(), dtype=float32)\n56.0\n[[3 4 5]\n [4 5 7]\n [5 8 9]]\n"
     ]
    }
   ],
   "source": [
    "import  tensorflow as tf\n",
    "import numpy as np\n",
    "matrix1 = np.array([(2,2,2),(2,2,2),(2,2,2)],dtype='int32')\n",
    "matrix2=np.array([(1,2,3),(2,3,5),(3,6,7)],dtype='int32')\n",
    "print(matrix1)\n",
    "tf_matrix1=tf.constant(matrix1)\n",
    "tf_matrix2=tf.constant(matrix2)\n",
    "print(tf_matrix1)\n",
    "matrix_mul=tf.multiply(tf_matrix1,tf_matrix2)\n",
    "print(matrix_mul)\n",
    "matrix_add=tf.add(tf_matrix1,tf_matrix2)\n",
    "print(matrix_add)\n",
    "matrix_3 = np.array([(2,7,2),(1,4,2),(9,0,2)],dtype='float32')\n",
    "matrix_det = tf.matrix_determinant(matrix_3)\n",
    "print(matrix_det)\n",
    "with tf.Session() as sess:\n",
    "     print(sess.run(matrix_det))\n",
    "     print(sess.run(matrix_add))"
   ]
  },
  {
   "cell_type": "code",
   "execution_count": 17,
   "metadata": {},
   "outputs": [
    {
     "name": "stdout",
     "output_type": "stream",
     "text": [
      "[[ 2  3  2]\n [ 2  2  2]\n [ 2 56  2]]\n"
     ]
    }
   ],
   "source": [
    "import  tensorflow as tf\n",
    "import numpy as np\n",
    "matrix1 = np.array([(2,-3,2),(2,2,2),(2,-56,2)],dtype='int32')\n",
    "matrix1_abs=tf.abs(matrix1)\n",
    "with tf.Session() as sess:\n",
    "    print(sess.run(matrix1_abs))"
   ]
  },
  {
   "cell_type": "code",
   "execution_count": 43,
   "metadata": {},
   "outputs": [],
   "source": [
    ""
   ]
  },
  {
   "cell_type": "code",
   "execution_count": 44,
   "metadata": {
    "collapsed": false
   },
   "outputs": [
    {
     "data": {
      "text/plain": [
       "array([[-2.   , -2.   , -2.   , ..., -2.   , -2.   , -2.   ],\n       [-1.995, -1.995, -1.995, ..., -1.995, -1.995, -1.995],\n       [-1.99 , -1.99 , -1.99 , ..., -1.99 , -1.99 , -1.99 ],\n       ..., \n       [ 1.985,  1.985,  1.985, ...,  1.985,  1.985,  1.985],\n       [ 1.99 ,  1.99 ,  1.99 , ...,  1.99 ,  1.99 ,  1.99 ],\n       [ 1.995,  1.995,  1.995, ...,  1.995,  1.995,  1.995]])"
      ]
     },
     "execution_count": 44,
     "metadata": {},
     "output_type": "execute_result"
    }
   ],
   "source": [
    "Y"
   ]
  },
  {
   "cell_type": "code",
   "execution_count": null,
   "metadata": {},
   "outputs": [],
   "source": [
    ""
   ]
  }
 ],
 "metadata": {
  "kernelspec": {
   "display_name": "Python 2",
   "language": "python",
   "name": "python2"
  },
  "language_info": {
   "codemirror_mode": {
    "name": "ipython",
    "version": 2.0
   },
   "file_extension": ".py",
   "mimetype": "text/x-python",
   "name": "python",
   "nbconvert_exporter": "python",
   "pygments_lexer": "ipython2",
   "version": "2.7.6"
  }
 },
 "nbformat": 4,
 "nbformat_minor": 0
}